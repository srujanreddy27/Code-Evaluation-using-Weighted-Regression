{
 "cells": [
  {
   "cell_type": "markdown",
   "id": "193292de",
   "metadata": {},
   "source": [
    "performance metrics of code with snippets without splitting"
   ]
  },
  {
   "cell_type": "code",
   "execution_count": 2,
   "id": "500912d7-af56-438a-bcb0-cd6f931fbced",
   "metadata": {},
   "outputs": [
    {
     "name": "stderr",
     "output_type": "stream",
     "text": [
      "c:\\Users\\prana\\AppData\\Local\\Programs\\Python\\Python311\\Lib\\site-packages\\sklearn\\metrics\\_regression.py:492: FutureWarning: 'squared' is deprecated in version 1.4 and will be removed in 1.6. To calculate the root mean squared error, use the function'root_mean_squared_error'.\n",
      "  warnings.warn(\n",
      "c:\\Users\\prana\\AppData\\Local\\Programs\\Python\\Python311\\Lib\\site-packages\\sklearn\\metrics\\_regression.py:492: FutureWarning: 'squared' is deprecated in version 1.4 and will be removed in 1.6. To calculate the root mean squared error, use the function'root_mean_squared_error'.\n",
      "  warnings.warn(\n",
      "c:\\Users\\prana\\AppData\\Local\\Programs\\Python\\Python311\\Lib\\site-packages\\sklearn\\metrics\\_regression.py:492: FutureWarning: 'squared' is deprecated in version 1.4 and will be removed in 1.6. To calculate the root mean squared error, use the function'root_mean_squared_error'.\n",
      "  warnings.warn(\n",
      "c:\\Users\\prana\\AppData\\Local\\Programs\\Python\\Python311\\Lib\\site-packages\\sklearn\\metrics\\_regression.py:492: FutureWarning: 'squared' is deprecated in version 1.4 and will be removed in 1.6. To calculate the root mean squared error, use the function'root_mean_squared_error'.\n",
      "  warnings.warn(\n"
     ]
    },
    {
     "name": "stdout",
     "output_type": "stream",
     "text": [
      "                  Train MAE  Train MSE  Train RMSE  Train MAPE  Train R2  \\\n",
      "CatBoost           0.564901   0.525085    0.724628   12.940167  0.910745   \n",
      "XGBoost            0.162230   0.099569    0.315546    3.599425  0.983075   \n",
      "RandomForest       0.556822   0.537777    0.733333   15.559471  0.908588   \n",
      "DecisionTree       0.035195   0.068359    0.261455    0.647092  0.988380   \n",
      "LinearRegression   1.841958   5.293779    2.300821   57.566885  0.100158   \n",
      "\n",
      "                  Test MAE  Test MSE  Test RMSE  Test MAPE   Test R2  \n",
      "CatBoost          1.372641  3.107095   1.762695  37.555771  0.468329  \n",
      "XGBoost           1.427061  3.656514   1.912201  39.208314  0.374316  \n",
      "RandomForest      1.448420  3.380490   1.838611  44.083124  0.421547  \n",
      "DecisionTree      1.738192  5.403284   2.324496  43.652240  0.075417  \n",
      "LinearRegression  1.953587  6.078405   2.465442  61.207059 -0.040106  \n"
     ]
    },
    {
     "name": "stderr",
     "output_type": "stream",
     "text": [
      "c:\\Users\\prana\\AppData\\Local\\Programs\\Python\\Python311\\Lib\\site-packages\\sklearn\\metrics\\_regression.py:492: FutureWarning: 'squared' is deprecated in version 1.4 and will be removed in 1.6. To calculate the root mean squared error, use the function'root_mean_squared_error'.\n",
      "  warnings.warn(\n",
      "c:\\Users\\prana\\AppData\\Local\\Programs\\Python\\Python311\\Lib\\site-packages\\sklearn\\metrics\\_regression.py:492: FutureWarning: 'squared' is deprecated in version 1.4 and will be removed in 1.6. To calculate the root mean squared error, use the function'root_mean_squared_error'.\n",
      "  warnings.warn(\n",
      "c:\\Users\\prana\\AppData\\Local\\Programs\\Python\\Python311\\Lib\\site-packages\\sklearn\\metrics\\_regression.py:492: FutureWarning: 'squared' is deprecated in version 1.4 and will be removed in 1.6. To calculate the root mean squared error, use the function'root_mean_squared_error'.\n",
      "  warnings.warn(\n",
      "c:\\Users\\prana\\AppData\\Local\\Programs\\Python\\Python311\\Lib\\site-packages\\sklearn\\metrics\\_regression.py:492: FutureWarning: 'squared' is deprecated in version 1.4 and will be removed in 1.6. To calculate the root mean squared error, use the function'root_mean_squared_error'.\n",
      "  warnings.warn(\n",
      "c:\\Users\\prana\\AppData\\Local\\Programs\\Python\\Python311\\Lib\\site-packages\\sklearn\\metrics\\_regression.py:492: FutureWarning: 'squared' is deprecated in version 1.4 and will be removed in 1.6. To calculate the root mean squared error, use the function'root_mean_squared_error'.\n",
      "  warnings.warn(\n",
      "c:\\Users\\prana\\AppData\\Local\\Programs\\Python\\Python311\\Lib\\site-packages\\sklearn\\metrics\\_regression.py:492: FutureWarning: 'squared' is deprecated in version 1.4 and will be removed in 1.6. To calculate the root mean squared error, use the function'root_mean_squared_error'.\n",
      "  warnings.warn(\n"
     ]
    }
   ],
   "source": [
    "import pandas as pd\n",
    "import numpy as np\n",
    "from sklearn.model_selection import train_test_split\n",
    "from sklearn.metrics import mean_absolute_error, mean_squared_error, r2_score\n",
    "from sklearn.decomposition import PCA\n",
    "from sklearn.ensemble import RandomForestRegressor\n",
    "from sklearn.tree import DecisionTreeRegressor\n",
    "from sklearn.linear_model import LinearRegression\n",
    "from catboost import CatBoostRegressor\n",
    "from xgboost import XGBRegressor\n",
    "\n",
    "# Function to calculate MAPE (Mean Absolute Percentage Error)\n",
    "def safe_mape(y_true, y_pred):\n",
    "    y_true = np.array(y_true)\n",
    "    y_pred = np.array(y_pred)\n",
    "    nonzero_indices = y_true != 0  # Exclude zero values from calculation\n",
    "    return np.mean(np.abs((y_true[nonzero_indices] - y_pred[nonzero_indices]) / y_true[nonzero_indices])) * 100\n",
    "\n",
    "# Load the dataset\n",
    "data = pd.read_excel(\"no_splitting.xlsx\")\n",
    "\n",
    "# Features and target\n",
    "X = data.drop(columns=[\"Final_Marks\"])\n",
    "y = data[\"Final_Marks\"]\n",
    "\n",
    "# Perform PCA to reduce features to size 20\n",
    "pca = PCA(n_components=20, random_state=42)\n",
    "X_pca = pca.fit_transform(X)\n",
    "\n",
    "# Train-test split with stratification\n",
    "X_train, X_test, y_train, y_test = train_test_split(\n",
    "    X_pca, y, test_size=0.2, stratify=y, random_state=42\n",
    ")\n",
    "\n",
    "# Models to evaluate\n",
    "models = {\n",
    "    \"CatBoost\": CatBoostRegressor(\n",
    "        verbose=0\n",
    "    ),\n",
    "    \"XGBoost\": XGBRegressor(\n",
    "    ),\n",
    "    \"RandomForest\": RandomForestRegressor(\n",
    "    ),\n",
    "    \"DecisionTree\": DecisionTreeRegressor(random_state=42),\n",
    "    \"LinearRegression\": LinearRegression()\n",
    "}\n",
    "\n",
    "# Metrics dictionary\n",
    "metrics = {}\n",
    "\n",
    "# Train and evaluate each model\n",
    "for name, model in models.items():\n",
    "    # Train the model\n",
    "    model.fit(X_train, y_train)\n",
    "\n",
    "    # Predictions\n",
    "    y_train_pred = model.predict(X_train)\n",
    "    y_test_pred = model.predict(X_test)\n",
    "\n",
    "    # Metrics for train and test\n",
    "    metrics[name] = {\n",
    "        \"Train MAE\": mean_absolute_error(y_train, y_train_pred),\n",
    "        \"Train MSE\": mean_squared_error(y_train, y_train_pred),\n",
    "        \"Train RMSE\": mean_squared_error(y_train, y_train_pred, squared=False),\n",
    "        \"Train MAPE\": safe_mape(y_train, y_train_pred),\n",
    "        \"Train R2\": r2_score(y_train, y_train_pred),\n",
    "        \"Test MAE\": mean_absolute_error(y_test, y_test_pred),\n",
    "        \"Test MSE\": mean_squared_error(y_test, y_test_pred),\n",
    "        \"Test RMSE\": mean_squared_error(y_test, y_test_pred, squared=False),\n",
    "        \"Test MAPE\": safe_mape(y_test, y_test_pred),\n",
    "        \"Test R2\": r2_score(y_test, y_test_pred)\n",
    "    }\n",
    "\n",
    "# Display the results\n",
    "results = pd.DataFrame(metrics).T\n",
    "print(results)\n"
   ]
  }
 ],
 "metadata": {
  "kernelspec": {
   "display_name": "Python 3",
   "language": "python",
   "name": "python3"
  },
  "language_info": {
   "codemirror_mode": {
    "name": "ipython",
    "version": 3
   },
   "file_extension": ".py",
   "mimetype": "text/x-python",
   "name": "python",
   "nbconvert_exporter": "python",
   "pygments_lexer": "ipython3",
   "version": "3.11.8"
  }
 },
 "nbformat": 4,
 "nbformat_minor": 5
}
